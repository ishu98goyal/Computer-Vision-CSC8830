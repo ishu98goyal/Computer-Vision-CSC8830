{
 "cells": [
  {
   "cell_type": "markdown",
   "id": "3a704528",
   "metadata": {},
   "source": [
    "# PART A\n",
    "\n",
    "#### Name: Ishu Goyal\n",
    "\n",
    "$$ \\\\ $$\n",
    "\n",
    "-Computation of homography matrix by using the pixel coordinates of the corresponding points in the image.\n",
    "\n",
    "-Homography matrix 'h' will convert the image pixel coordinates from the source image to the destination image by projecting the points from source image plane to destination image plane.\n",
    "\n"
   ]
  },
  {
   "cell_type": "code",
   "execution_count": 1,
   "id": "6420f0e8",
   "metadata": {},
   "outputs": [],
   "source": [
    "import numpy as np"
   ]
  },
  {
   "cell_type": "markdown",
   "id": "0d1a371e",
   "metadata": {},
   "source": [
    "## Creating image points list\n",
    "\n",
    "---------------------\n",
    "\n",
    "-Creating list of corresponding points of same features from both the images\n",
    "\n",
    "- xs - X coordinates of the image pixel position from source image\n",
    "- ys - Y coordinates of the image pixel position from source image\n",
    "- xd - X coordinates of the image pixel position from the destination image\n",
    "- yd - Y coordinates of the image pixel position from the destination image"
   ]
  },
  {
   "cell_type": "code",
   "execution_count": 2,
   "id": "7a878935",
   "metadata": {},
   "outputs": [],
   "source": [
    "xs = [365.6942, 368.1937, 366.9331, 364.2767,362.9518,361.6201,360.1071,419.5753,418.3222,416.9176,415.6446,414.2065,412.7598,411.2062,471.1135,469.6650,468.1966,466.7643,465.3264,463.9024,462.3837,522.7403,521.1732,519.8360, 518.3030]\n",
    "ys = [292.5464, 188.3461, 240.6366, 344.1300,395.6568,447.0891,498.7948,189.8007,242.0051,293.9554,345.5727,397.0850,448.6121,500.3589,191.0175,243.2864,295.2578,346.9755,398.6040,450.2090,502.0514,192.2352,244.5373,296.6545,348.4220]\n",
    "xd = [348.5998, 377.6357, 319.0576, 406.4299, 435.1823, 463.8352, 492.4751, 361.0885, 390.4941, 419.5286, 448.2632, 477.0448, 505.5887, 534.1678, 403.1739, 432.2963, 461.3121, 490.0896, 518.6993, 547.2607, 575.9412, 445.1797, 474.2915, 503.2628, 531.9940]\n",
    "yd = [454.3980, 370.0124, 412.3830, 496.2708, 537.9025, 579.5414, 621.3035, 341.5682, 383.8370, 426.0496, 467.8811, 509.6456, 551.1746, 593.2059, 312.8976, 355.4028, 397.6080, 439.5705, 481.2976, 523.1167, 564.9918, 284.1512, 326.7610, 369.0763, 411.0553]"
   ]
  },
  {
   "cell_type": "markdown",
   "id": "e3921731",
   "metadata": {},
   "source": [
    "### Check (each list has 25 features or not)\n"
   ]
  },
  {
   "cell_type": "code",
   "execution_count": 24,
   "id": "ce51799a",
   "metadata": {},
   "outputs": [
    {
     "name": "stdout",
     "output_type": "stream",
     "text": [
      "25 25 25 25\n"
     ]
    }
   ],
   "source": [
    "print(len(xs),len(ys),len(xd),len(yd))"
   ]
  },
  {
   "cell_type": "markdown",
   "id": "b0842a7a",
   "metadata": {},
   "source": [
    "# Once we have the image points now we will solve for homography\n",
    "\n",
    "$$\\begin{bmatrix} xd \\\\ yd \\\\ 1 \\end{bmatrix} \\equiv  \\begin{bmatrix} xd \\\\ yd \\\\ zd \\end{bmatrix} = \\begin{bmatrix} h_{11} & h_{12} & h_{13} \\\\ h_{21} & h_{22} & h_{23} \\\\ h_{31} & h_{32} & h_{33} \\end{bmatrix} \\begin{bmatrix} xs \\\\ ys \\\\ 1 \\end{bmatrix}$$ \n",
    "\n",
    "For actual points from homogenous representation: \n",
    "$$ \\frac{xd^{(i)}}{zd^{(i)}} and \\frac{yd^{(i)}}{zd^{(i)}}$$\n",
    "\n",
    "A.h=0\n",
    "\n",
    "$$\\begin{bmatrix} xs^{(i)} & ys^{(i)} & 1 & 0 & 0 & 0 & -xd^{(i)}xs^{(i)} & -xd^{(i)}ys^{(i)} & -xd^{(i)} \\\\ 0 & 0 & 0 & xs^{(i)} & ys^{(i)} & 1 & -yd^{(i)}xs^{(i)} & -yd^{(i)}ys^{(i)} & -yd^{(i)} \\end{bmatrix} \\begin{bmatrix} h_{11} \\\\ h_{12} \\\\ h_{13} \\\\ h_{21} \\\\ h_{22} \\\\ h_{23} \\\\ h_{31} \\\\ h_{32} \\\\ h_{33} \\end{bmatrix} =\\begin{bmatrix} 0 \\\\ 0 \\end{bmatrix} $$   \n",
    "\n",
    "Equation for one point\n",
    "\n",
    "$$\\begin{bmatrix} xs^{(1)} & ys^{(1)} & 1 & 0 & 0 & 0 & -xd^{(1)}xs^{(1)} & -xd^{(1)}ys^{(1)} & -xd^{(1)} \\\\ 0 & 0 & 0 & xs^{(1)} & ys^{(1)} & 1 & -yd^{(1)}xs^{(1)} & -yd^{(1)}ys^{(1)} & -yd^{(1)} \\\\ xs^{(2)} & ys^{(2)} & 1 & 0 & 0 & 0 & -xd^{(2)}xs^{(2)} & -xd^{(2)}ys^{(2)} & -xd^{(2)} \\\\ 0 & 0 & 0 & xs^{(2)} & ys^{(2)} & 1 & -yd^{(2)}xs^{(2)} & -yd^{(2)}ys^{(2)} & -yd^{(2)} \\\\ xs^{(3)} & ys^{(3)} & 1 & 0 & 0 & 0 & -xd^{(3)}xs^{(3)} & -xd^{(3)}ys^{(3)} & -xd^{(3)} \\\\ 0 & 0 & 0 & xs^{(3)} & ys^{(3)} & 1 & -yd^{(3)}xs^{(3)} & -yd^{(3)}ys^{(3)} & -yd^{(3)} \\\\ xs^{(4)} & ys^{(4)} & 1 & 0 & 0 & 0 & -xd^{(4)}xs^{(4)} & -xd^{(4)}ys^{(4)} & -xd^{(4)} \\\\ 0 & 0 & 0 & xs^{(4)} & ys^{(4)} & 1 & -yd^{(4)}xs^{(4)} & -yd^{(4)}ys^{(4)} & -yd^{(4)} \\\\ xs^{(5)} & ys^{(5)} & 1 & 0 & 0 & 0 & -xd^{(5)}xs^{(5)} & -xd^{(5)}ys^{(5)} & -xd^{(5)} \\\\ 0 & 0 & 0 & xs^{(5)} & ys^{(5)} & 1 & -yd^{(5)}xs^{(5)} & -yd^{(5)}ys^{(5)} & -yd^{(5)} \\\\ xs^{(6)} & ys^{(6)} & 1 & 0 & 0 & 0 & -xd^{(6)}xs^{(6)} & -xd^{(6)}ys^{(6)} & -xd^{(6)} \\\\ 0 & 0 & 0 & xs^{(6)} & ys^{(6)} & 1 & -yd^{(6)}xs^{(6)} & -yd^{(6)}ys^{(6)} & -yd^{(6)} \\\\ xs^{(7)} & ys^{(7)} & 1 & 0 & 0 & 0 & -xd^{(7)}xs^{(7)} & -xd^{(7)}ys^{(7)} & -xd^{(7)} \\\\ 0 & 0 & 0 & xs^{(7)} & ys^{(7)} & 1 & -yd^{(7)}xs^{(7)} & -yd^{(7)}ys^{(7)} & -yd^{(7)} \\\\ xs^{(8)} & ys^{(8)} & 1 & 0 & 0 & 0 & -xd^{(8)}xs^{(8)} & -xd^{(8)}ys^{(8)} & -xd^{(8)} \\\\ 0 & 0 & 0 & xs^{(8)} & ys^{(8)} & 1 & -yd^{(8)}xs^{(8)} & -yd^{(8)}ys^{(8)} & -yd^{(8)}\n",
    "\\\\ xs^{(9)} & ys^{(9)} & 1 & 0 & 0 & 0 & -xd^{(9)}xs^{(9)} & -xd^{(9)}ys^{(9)} & -xd^{(9)} \\\\ 0 & 0 & 0 & xs^{(9)} & ys^{(9)} & 1 & -yd^{(9)}xs^{(9)} & -yd^{(9)}ys^{(9)} & -yd^{(9)}\n",
    "\\\\ xs^{(10)} & ys^{(10)} & 1 & 0 & 0 & 0 & -xd^{(10)}xs^{(10)} & -xd^{(10)}ys^{(10)} & -xd^{(10)} \\\\ 0 & 0 & 0 & xs^{(10)} & ys^{(10)} & 1 & -yd^{(10)}xs^{(10)} & -yd^{(10)}ys^{(10)} & -yd^{(10)}\n",
    "\\\\ ... & ... & ... & ... & ... & ... & ... & ... & ... \\\\\n",
    "xs^{(25)} & ys^{(25)} & 1 & 0 & 0 & 0 & -xd^{(25)}xs^{(25)} & -xd^{(25)}ys^{(25)} & -xd^{(25)} \\\\ 0 & 0 & 0 & xs^{(25)} & ys^{(25)} & 1 & -yd^{(25)}xs^{(25)} & -yd^{(25)}ys^{(25)} & -yd^{(25)}\n",
    "\\end{bmatrix} \\begin{bmatrix} h_{11} \\\\ h_{12} \\\\ h_{13} \\\\ h_{21} \\\\ h_{22} \\\\ h_{23} \\\\ h_{31} \\\\ h_{32} \\\\ h_{33} \\end{bmatrix} =\\begin{bmatrix} 0 \\\\ 0 \\end{bmatrix} $$  \n",
    "\n",
    "\n",
    "#### Solving for h."
   ]
  },
  {
   "cell_type": "code",
   "execution_count": 25,
   "id": "8c45a0f4",
   "metadata": {},
   "outputs": [],
   "source": [
    "#xs, ys, 1, 0, 0, 0, -xdxs, -xdys, -xd\n",
    "#0, 0, 0, xs, ys, 1, -ydxs, -ydys, -yd\n",
    "xdxs=-np.multiply(np.array(xd),np.array(xs))\n",
    "xdys =-np.multiply(np.array(xd),np.array(ys)) \n",
    "ydxs=-np.multiply(np.array(yd),np.array(xs))\n",
    "ydys=-np.multiply(np.array(yd),np.array(ys))"
   ]
  },
  {
   "cell_type": "code",
   "execution_count": 8,
   "id": "638cd477",
   "metadata": {},
   "outputs": [],
   "source": [
    "A=[]\n",
    "for i in range(0,25):\n",
    "    mat1 = [xs[i],ys[i],1,0,0,0,xdxs[i],xdys[i],-xd[i]]\n",
    "    mat2 = [0,0,0,xs[i],ys[i],1,ydxs[i],ydys[i],-yd[i]]\n",
    "    A.append(mat1)\n",
    "    A.append(mat2)"
   ]
  },
  {
   "cell_type": "code",
   "execution_count": 9,
   "id": "66de973c",
   "metadata": {},
   "outputs": [],
   "source": [
    "A = np.array(A)"
   ]
  },
  {
   "cell_type": "code",
   "execution_count": 10,
   "id": "5f194baa",
   "metadata": {},
   "outputs": [
    {
     "data": {
      "text/plain": [
       "(50, 9)"
      ]
     },
     "execution_count": 10,
     "metadata": {},
     "output_type": "execute_result"
    }
   ],
   "source": [
    "A.shape"
   ]
  },
  {
   "cell_type": "markdown",
   "id": "ac37259c",
   "metadata": {},
   "source": [
    "## Finding Value of H\n",
    "\n",
    "Solve for **h** such that:\n",
    "<br>\n",
    "$$A.h = 0 \\space and \\space \\lvert\\lvert h \\rvert\\rvert = 0$$\n",
    "\n",
    "Loss function L(h):\n",
    "\n",
    "$$L(h,\\lambda) = h^TA^TAh - \\lambda(h^Th-1)$$\n",
    "\n",
    "After First derivative:\n",
    "\n",
    "$$ 2A^TAh - 2\\lambda h = 0$$\n",
    "\n",
    "We can set it up as a Eigen Value Decomposition of the inner product of matrix A:\n",
    "\n",
    "$$A^TAh = \\lambda h$$\n",
    "\n",
    "The Eigenvector *h* belongs to the smallest eigenvalue of $\\lambda$ of matrix $A^TA$ minimizes the loss function $L(h)$."
   ]
  },
  {
   "cell_type": "code",
   "execution_count": 11,
   "id": "237311e3",
   "metadata": {},
   "outputs": [],
   "source": [
    "inner_product = np.dot(A.T,A)"
   ]
  },
  {
   "cell_type": "code",
   "execution_count": 12,
   "id": "5ff449ef",
   "metadata": {},
   "outputs": [
    {
     "data": {
      "text/plain": [
       "(9, 9)"
      ]
     },
     "execution_count": 12,
     "metadata": {},
     "output_type": "execute_result"
    }
   ],
   "source": [
    "inner_product.shape"
   ]
  },
  {
   "cell_type": "code",
   "execution_count": 13,
   "id": "745d1bd7",
   "metadata": {},
   "outputs": [],
   "source": [
    "w, v = np.linalg.eig(inner_product)"
   ]
  },
  {
   "cell_type": "code",
   "execution_count": 14,
   "id": "82f39892",
   "metadata": {},
   "outputs": [
    {
     "data": {
      "text/plain": [
       "array([3.37660628e+12, 8.88507868e+10, 7.52466113e+06, 2.72675590e+05,\n",
       "       1.25530360e+05, 2.08438813e+04, 4.86585786e+03, 3.53287397e-02,\n",
       "       6.67508712e-03])"
      ]
     },
     "execution_count": 14,
     "metadata": {},
     "output_type": "execute_result"
    }
   ],
   "source": [
    "w"
   ]
  },
  {
   "cell_type": "code",
   "execution_count": 15,
   "id": "a2465996",
   "metadata": {},
   "outputs": [],
   "source": [
    "v = v.T # transpose "
   ]
  },
  {
   "cell_type": "code",
   "execution_count": 16,
   "id": "2f4c5df5",
   "metadata": {},
   "outputs": [
    {
     "data": {
      "text/plain": [
       "array([1.00000000e+00, 2.63136355e-02, 2.22846862e-06, 8.07543337e-08,\n",
       "       3.71764872e-08, 6.17302686e-09, 1.44104982e-09, 1.04627951e-14,\n",
       "       1.97686273e-15])"
      ]
     },
     "execution_count": 16,
     "metadata": {},
     "output_type": "execute_result"
    }
   ],
   "source": [
    "w/w[0]"
   ]
  },
  {
   "cell_type": "code",
   "execution_count": 17,
   "id": "a304bcad",
   "metadata": {},
   "outputs": [],
   "source": [
    "v_prime = v[-1]"
   ]
  },
  {
   "cell_type": "code",
   "execution_count": 18,
   "id": "e5a9c64a",
   "metadata": {},
   "outputs": [],
   "source": [
    "h = v_prime.reshape((3,3))"
   ]
  },
  {
   "cell_type": "markdown",
   "id": "42646736",
   "metadata": {},
   "source": [
    "####  Reshaping the last column i.e  homography matrix *h*"
   ]
  },
  {
   "cell_type": "code",
   "execution_count": 19,
   "id": "9528f0e1",
   "metadata": {},
   "outputs": [
    {
     "data": {
      "text/plain": [
       "array([[ 9.50905484e-04,  2.56054818e-04, -6.26685154e-01],\n",
       "       [ 1.33554769e-03,  1.97839426e-04, -7.79268783e-01],\n",
       "       [ 2.63043006e-06,  9.43838252e-07, -1.75731232e-03]])"
      ]
     },
     "execution_count": 19,
     "metadata": {},
     "output_type": "execute_result"
    }
   ],
   "source": [
    "h"
   ]
  },
  {
   "cell_type": "markdown",
   "id": "54519487",
   "metadata": {},
   "source": [
    "### Verification Check for homography matrix obtained "
   ]
  },
  {
   "cell_type": "code",
   "execution_count": 20,
   "id": "630217d3",
   "metadata": {},
   "outputs": [],
   "source": [
    "product = np.dot(h, np.array([368.1937, 188.3461, 1]).T)"
   ]
  },
  {
   "cell_type": "code",
   "execution_count": 21,
   "id": "5bb3f3f9",
   "metadata": {},
   "outputs": [
    {
     "data": {
      "text/plain": [
       "array([-0.22834082, -0.25026625, -0.00061104])"
      ]
     },
     "execution_count": 21,
     "metadata": {},
     "output_type": "execute_result"
    }
   ],
   "source": [
    "product"
   ]
  },
  {
   "cell_type": "code",
   "execution_count": 22,
   "id": "a0d2c208",
   "metadata": {},
   "outputs": [],
   "source": [
    "product = product / product[2]"
   ]
  },
  {
   "cell_type": "code",
   "execution_count": 23,
   "id": "dc385d44",
   "metadata": {},
   "outputs": [
    {
     "data": {
      "text/plain": [
       "array([373.69436771, 409.57674259,   1.        ])"
      ]
     },
     "execution_count": 23,
     "metadata": {},
     "output_type": "execute_result"
    }
   ],
   "source": [
    "product"
   ]
  }
 ],
 "metadata": {
  "kernelspec": {
   "display_name": "Python 3",
   "language": "python",
   "name": "python3"
  },
  "language_info": {
   "codemirror_mode": {
    "name": "ipython",
    "version": 3
   },
   "file_extension": ".py",
   "mimetype": "text/x-python",
   "name": "python",
   "nbconvert_exporter": "python",
   "pygments_lexer": "ipython3",
   "version": "3.8.8"
  }
 },
 "nbformat": 4,
 "nbformat_minor": 5
}
