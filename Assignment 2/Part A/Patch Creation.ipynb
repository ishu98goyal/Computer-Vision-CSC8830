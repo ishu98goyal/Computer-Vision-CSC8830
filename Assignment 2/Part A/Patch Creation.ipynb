{
 "cells": [
  {
   "cell_type": "code",
   "execution_count": 1,
   "source": [
    "import cv2\n",
    "import numpy as np\n",
    "import matplotlib.pyplot as plt"
   ],
   "outputs": [],
   "metadata": {}
  },
  {
   "cell_type": "code",
   "execution_count": 2,
   "source": [
    "#Creating 5x5 Image Patch\n",
    "patch = [[198, 200, 200, 21,  23],\n",
    "       [201, 198, 200, 21,  23],\n",
    "       [197, 198, 200, 21,  21],\n",
    "       [ 25,  24,  22,  20,  23],\n",
    "       [ 24,  24,  20,  21,  19]]"
   ],
   "outputs": [],
   "metadata": {}
  },
  {
   "cell_type": "code",
   "execution_count": 4,
   "source": [
    "patch"
   ],
   "outputs": [
    {
     "output_type": "execute_result",
     "data": {
      "text/plain": [
       "[[198, 200, 200, 21, 23],\n",
       " [201, 198, 200, 21, 23],\n",
       " [197, 198, 200, 21, 21],\n",
       " [25, 24, 22, 20, 23],\n",
       " [24, 24, 20, 21, 19]]"
      ]
     },
     "metadata": {},
     "execution_count": 4
    }
   ],
   "metadata": {}
  },
  {
   "cell_type": "code",
   "execution_count": 5,
   "source": [
    "plt.imshow(patch, cmap='gray')"
   ],
   "outputs": [
    {
     "output_type": "execute_result",
     "data": {
      "text/plain": [
       "<matplotlib.image.AxesImage at 0x7f7bd8f0dbe0>"
      ]
     },
     "metadata": {},
     "execution_count": 5
    },
    {
     "output_type": "display_data",
     "data": {
      "image/png": "[encoded data removed]",
      "text/plain": [
       "<Figure size 432x288 with 1 Axes>"
      ]
     },
     "metadata": {
      "needs_background": "light"
     }
    }
   ],
   "metadata": {}
  },
  {
   "cell_type": "code",
   "execution_count": 6,
   "source": [
    "plt.imsave('corner.jpg', patch, cmap='gray')"
   ],
   "outputs": [],
   "metadata": {}
  },
  {
   "cell_type": "code",
   "execution_count": 7,
   "source": [
    "val = plt.imread('corner.jpg')"
   ],
   "outputs": [],
   "metadata": {}
  },
  {
   "cell_type": "code",
   "execution_count": 8,
   "source": [
    "val"
   ],
   "outputs": [
    {
     "output_type": "execute_result",
     "data": {
      "text/plain": [
       "array([[[255, 255, 255],\n",
       "        [245, 245, 245],\n",
       "        [255, 255, 255],\n",
       "        [  0,   0,   0],\n",
       "        [  4,   4,   4]],\n",
       "\n",
       "       [[231, 231, 231],\n",
       "        [240, 240, 240],\n",
       "        [255, 255, 255],\n",
       "        [  0,   0,   0],\n",
       "        [ 13,  13,  13]],\n",
       "\n",
       "       [[255, 255, 255],\n",
       "        [255, 255, 255],\n",
       "        [239, 239, 239],\n",
       "        [  8,   8,   8],\n",
       "        [  0,   0,   0]],\n",
       "\n",
       "       [[  0,   0,   0],\n",
       "        [ 11,  11,  11],\n",
       "        [ 14,  14,  14],\n",
       "        [  0,   0,   0],\n",
       "        [  4,   4,   4]],\n",
       "\n",
       "       [[ 24,  24,  24],\n",
       "        [ 18,  18,  18],\n",
       "        [  0,   0,   0],\n",
       "        [  6,   6,   6],\n",
       "        [  7,   7,   7]]], dtype=uint8)"
      ]
     },
     "metadata": {},
     "execution_count": 8
    }
   ],
   "metadata": {
    "scrolled": true
   }
  },
  {
   "cell_type": "code",
   "execution_count": 9,
   "source": [
    "gray = cv2.cvtColor(val, cv2.COLOR_RGB2GRAY)"
   ],
   "outputs": [],
   "metadata": {}
  },
  {
   "cell_type": "code",
   "execution_count": 10,
   "source": [
    "gray"
   ],
   "outputs": [
    {
     "output_type": "execute_result",
     "data": {
      "text/plain": [
       "array([[255, 245, 255,   0,   4],\n",
       "       [231, 240, 255,   0,  13],\n",
       "       [255, 255, 239,   8,   0],\n",
       "       [  0,  11,  14,   0,   4],\n",
       "       [ 24,  18,   0,   6,   7]], dtype=uint8)"
      ]
     },
     "metadata": {},
     "execution_count": 10
    }
   ],
   "metadata": {}
  },
  {
   "cell_type": "code",
   "execution_count": null,
   "source": [],
   "outputs": [],
   "metadata": {}
  }
 ],
 "metadata": {
  "kernelspec": {
   "display_name": "Python 3",
   "language": "python",
   "name": "python3"
  },
  "language_info": {
   "codemirror_mode": {
    "name": "ipython",
    "version": 3
   },
   "file_extension": ".py",
   "mimetype": "text/x-python",
   "name": "python",
   "nbconvert_exporter": "python",
   "pygments_lexer": "ipython3",
   "version": "3.8.8"
  }
 },
 "nbformat": 4,
 "nbformat_minor": 5
}