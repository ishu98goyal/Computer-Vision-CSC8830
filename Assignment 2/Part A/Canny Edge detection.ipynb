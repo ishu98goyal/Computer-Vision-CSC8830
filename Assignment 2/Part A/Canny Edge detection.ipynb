{
 "cells": [
  {
   "cell_type": "code",
   "execution_count": 1,
   "source": [
    "import numpy as np\n",
    "import matplotlib.pyplot as plt\n",
    "import math"
   ],
   "outputs": [],
   "metadata": {}
  },
  {
   "cell_type": "code",
   "execution_count": 2,
   "source": [
    "img_patch = [[43,46,97,170,192],[42,47,99,171,192],[43,46,100,172,190],[43,45,100,175,192],[43,46,101,176,192]]"
   ],
   "outputs": [],
   "metadata": {}
  },
  {
   "cell_type": "code",
   "execution_count": 3,
   "source": [
    "img_patch = np.array(img_patch)"
   ],
   "outputs": [],
   "metadata": {}
  },
  {
   "cell_type": "code",
   "execution_count": 4,
   "source": [
    "plt.imshow(img_patch, cmap='gray')"
   ],
   "outputs": [
    {
     "output_type": "execute_result",
     "data": {
      "text/plain": [
       "<matplotlib.image.AxesImage at 0x7f8680023cd0>"
      ]
     },
     "metadata": {},
     "execution_count": 4
    },
    {
     "output_type": "display_data",
     "data": {
      "image/png": "[encoded data removed]",
      "text/plain": [
       "<Figure size 432x288 with 1 Axes>"
      ]
     },
     "metadata": {
      "needs_background": "light"
     }
    }
   ],
   "metadata": {}
  },
  {
   "cell_type": "code",
   "execution_count": 5,
   "source": [
    "# Function to perform convolution of the input image with the kernel\n",
    "def convolution(img, kernel, average=False, verbose=False):\n",
    "    if len(img.shape) == 3:\n",
    "        print(\"Found 3 Channels : {}\".format(img.shape))\n",
    "        img = cv2.cvtColor(img, cv2.COLOR_BGR2GRAY)\n",
    "        print(\"Converted to Gray Channel. Size : {}\".format(img.shape))\n",
    "    else:\n",
    "        print(\"img Shape : {}\".format(img.shape))\n",
    " \n",
    "    print(\"Kernel Shape : {}\".format(kernel.shape))\n",
    " \n",
    "    if verbose:\n",
    "        plt.imshow(img, cmap='gray')\n",
    "        plt.title(\"img\")\n",
    "        plt.show()\n",
    " \n",
    "    img_row, img_col = img.shape\n",
    "    kernel_row, kernel_col = kernel.shape\n",
    " \n",
    "    output = np.zeros(img.shape)\n",
    " \n",
    "    height = int((kernel_row - 1) / 2)\n",
    "    width = int((kernel_col - 1) / 2)\n",
    " \n",
    "    img_p = np.zeros((img_row + (2 * height), img_col + (2 * width)))\n",
    " \n",
    "    img_p[height:img_p.shape[0] - height, width:img_p.shape[1] - width] = img\n",
    " \n",
    "    if verbose:\n",
    "        plt.imshow(img_p, cmap='gray')\n",
    "        plt.title(\"Padded img\")\n",
    "        plt.show()\n",
    " \n",
    "    for row in range(img_row):\n",
    "        for col in range(img_col):\n",
    "            output[row, col] = np.sum(kernel * img_p[row:row + kernel_row, col:col + kernel_col])\n",
    "            if average:\n",
    "                output[row, col] /= kernel.shape[0] * kernel.shape[1]\n",
    " \n",
    "    print(\"Output img size : {}\".format(output.shape))\n",
    " \n",
    "    if verbose:\n",
    "        plt.imshow(output, cmap='gray')\n",
    "        plt.title(\"Output img using {}X{} Kernel\".format(kernel_row, kernel_col))\n",
    "        plt.show()\n",
    " \n",
    "    return output"
   ],
   "outputs": [],
   "metadata": {}
  },
  {
   "cell_type": "code",
   "execution_count": 6,
   "source": [
    "#Functions to generate a Gaussian kernel and blur a given image by performing convolution with the image and the generated kernel. \n",
    "# This will produce an average (blurring) effect.\n",
    "\n",
    "def dnorm(x, mu, sd):\n",
    "    return 1 / (np.sqrt(2 * np.pi) * sd) * np.e ** (-np.power((x - mu) / sd, 2) / 2)\n",
    " \n",
    "def gaussian_kernel(size, sigma=1, verbose=False):\n",
    "    kernel_1D = np.linspace(-(size // 2), size // 2, size)\n",
    "    for i in range(size):\n",
    "        kernel_1D[i] = dnorm(kernel_1D[i], 0, sigma)\n",
    "    kernel_2D = np.outer(kernel_1D.T, kernel_1D.T)\n",
    " \n",
    "    kernel_2D *= 1.0 / kernel_2D.max()\n",
    " \n",
    "    if verbose:\n",
    "        plt.imshow(kernel_2D, interpolation='none', cmap='gray')\n",
    "        plt.title(\"Kernel ( {}X{} )\".format(size, size))\n",
    "        plt.show()\n",
    " \n",
    "    return kernel_2D\n",
    " \n",
    "def gaussian_blur(img, kernel_size, verbose=False):\n",
    "    kernel = gaussian_kernel(kernel_size, sigma=1, verbose=verbose)\n",
    "    return convolution(img, kernel, average=True, verbose=verbose)"
   ],
   "outputs": [],
   "metadata": {}
  },
  {
   "cell_type": "code",
   "execution_count": 7,
   "source": [
    "blurred_patch = gaussian_blur(img_patch, 5, True)"
   ],
   "outputs": [
    {
     "output_type": "display_data",
     "data": {
      "image/png": "[encoded data removed]",
      "text/plain": [
       "<Figure size 432x288 with 1 Axes>"
      ]
     },
     "metadata": {
      "needs_background": "light"
     }
    },
    {
     "output_type": "stream",
     "name": "stdout",
     "text": [
      "img Shape : (5, 5)\n",
      "Kernel Shape : (5, 5)\n"
     ]
    },
    {
     "output_type": "display_data",
     "data": {
      "image/png": "[encoded data removed]",
      "text/plain": [
       "<Figure size 432x288 with 1 Axes>"
      ]
     },
     "metadata": {
      "needs_background": "light"
     }
    },
    {
     "output_type": "display_data",
     "data": {
      "image/png": "[encoded data removed]",
      "text/plain": [
       "<Figure size 432x288 with 1 Axes>"
      ]
     },
     "metadata": {
      "needs_background": "light"
     }
    },
    {
     "output_type": "stream",
     "name": "stdout",
     "text": [
      "Output img size : (5, 5)\n"
     ]
    },
    {
     "output_type": "display_data",
     "data": {
      "image/png": "[encoded data removed]",
      "text/plain": [
       "<Figure size 432x288 with 1 Axes>"
      ]
     },
     "metadata": {
      "needs_background": "light"
     }
    }
   ],
   "metadata": {}
  },
  {
   "cell_type": "code",
   "execution_count": 8,
   "source": [
    "kernel = gaussian_kernel(5, sigma=1)"
   ],
   "outputs": [],
   "metadata": {}
  },
  {
   "cell_type": "code",
   "execution_count": 9,
   "source": [
    "kernel"
   ],
   "outputs": [
    {
     "output_type": "execute_result",
     "data": {
      "text/plain": [
       "array([[0.01831564, 0.082085  , 0.13533528, 0.082085  , 0.01831564],\n",
       "       [0.082085  , 0.36787944, 0.60653066, 0.36787944, 0.082085  ],\n",
       "       [0.13533528, 0.60653066, 1.        , 0.60653066, 0.13533528],\n",
       "       [0.082085  , 0.36787944, 0.60653066, 0.36787944, 0.082085  ],\n",
       "       [0.01831564, 0.082085  , 0.13533528, 0.082085  , 0.01831564]])"
      ]
     },
     "metadata": {},
     "execution_count": 9
    }
   ],
   "metadata": {}
  },
  {
   "cell_type": "code",
   "execution_count": 10,
   "source": [
    "sobel_x = np.array([[-1,0,1],[-2,0,2],[-1,0,1]])\n",
    "sobel_y = np.array([[1,2,1],[0,0,0],[-1,-2,-1]])"
   ],
   "outputs": [],
   "metadata": {}
  },
  {
   "cell_type": "code",
   "execution_count": 11,
   "source": [
    "# Defining Sobel operator for edge detection in the X and Y axes\n",
    "def sobel_edge_detection(img, filter_x, filter_y, convert_to_degree=False, verbose=False):\n",
    "    new_img_x = convolution(img, filter_x, verbose)\n",
    "\n",
    "    if verbose:\n",
    "        plt.imshow(new_img_x, cmap='gray')\n",
    "        plt.title(\"Horizontal Edge\")\n",
    "        plt.show()\n",
    "\n",
    "    new_img_y = convolution(img, filter_y, verbose)\n",
    "\n",
    "    if verbose:\n",
    "        plt.imshow(new_img_y, cmap='gray')\n",
    "        plt.title(\"Vertical Edge\")\n",
    "        plt.show()\n",
    "\n",
    "    gradient_magnitude = np.sqrt(np.square(new_img_x) + np.square(new_img_y))\n",
    "\n",
    "    gradient_magnitude *= 255.0 / gradient_magnitude.max()\n",
    "\n",
    "    if verbose:\n",
    "        plt.imshow(gradient_magnitude, cmap='gray')\n",
    "        plt.title(\"Gradient Magnitude\")\n",
    "        plt.show()\n",
    "\n",
    "    gradient_direction = np.arctan2(new_img_y, new_img_x)\n",
    "\n",
    "    if convert_to_degree:\n",
    "        gradient_direction = np.rad2deg(gradient_direction)\n",
    "        gradient_direction += 180\n",
    "\n",
    "    return gradient_magnitude, gradient_direction"
   ],
   "outputs": [],
   "metadata": {}
  },
  {
   "cell_type": "code",
   "execution_count": 12,
   "source": [
    "gradient_magnitude, gradient_direction = sobel_edge_detection(blurred_patch, sobel_x,sobel_y, verbose=True)"
   ],
   "outputs": [
    {
     "output_type": "stream",
     "name": "stdout",
     "text": [
      "img Shape : (5, 5)\n",
      "Kernel Shape : (3, 3)\n",
      "Output img size : (5, 5)\n"
     ]
    },
    {
     "output_type": "display_data",
     "data": {
      "image/png": "[encoded data removed]",
      "text/plain": [
       "<Figure size 432x288 with 1 Axes>"
      ]
     },
     "metadata": {
      "needs_background": "light"
     }
    },
    {
     "output_type": "stream",
     "name": "stdout",
     "text": [
      "img Shape : (5, 5)\n",
      "Kernel Shape : (3, 3)\n",
      "Output img size : (5, 5)\n"
     ]
    },
    {
     "output_type": "display_data",
     "data": {
      "image/png": "[encoded data removed]",
      "text/plain": [
       "<Figure size 432x288 with 1 Axes>"
      ]
     },
     "metadata": {
      "needs_background": "light"
     }
    },
    {
     "output_type": "display_data",
     "data": {
      "image/png": "[encoded data removed]",
      "text/plain": [
       "<Figure size 432x288 with 1 Axes>"
      ]
     },
     "metadata": {
      "needs_background": "light"
     }
    }
   ],
   "metadata": {}
  },
  {
   "cell_type": "code",
   "execution_count": 13,
   "source": [
    "def non_max_suppression(gradient_magnitude, gradient_direction, verbose):\n",
    "    img_row, img_col = gradient_magnitude.shape\n",
    " \n",
    "    output = np.zeros(gradient_magnitude.shape)\n",
    " \n",
    "    PI = 180\n",
    " \n",
    "    for row in range(1, img_row - 1):\n",
    "        for col in range(1, img_col - 1):\n",
    "            direction = gradient_direction[row, col]\n",
    " \n",
    "            if (0 <= direction < PI / 8) or (15 * PI / 8 <= direction <= 2 * PI):\n",
    "                before_pixel = gradient_magnitude[row, col - 1]\n",
    "                after_pixel = gradient_magnitude[row, col + 1]\n",
    " \n",
    "            elif (PI / 8 <= direction < 3 * PI / 8) or (9 * PI / 8 <= direction < 11 * PI / 8):\n",
    "                before_pixel = gradient_magnitude[row + 1, col - 1]\n",
    "                after_pixel = gradient_magnitude[row - 1, col + 1]\n",
    " \n",
    "            elif (3 * PI / 8 <= direction < 5 * PI / 8) or (11 * PI / 8 <= direction < 13 * PI / 8):\n",
    "                before_pixel = gradient_magnitude[row - 1, col]\n",
    "                after_pixel = gradient_magnitude[row + 1, col]\n",
    " \n",
    "            else:\n",
    "                before_pixel = gradient_magnitude[row - 1, col - 1]\n",
    "                after_pixel = gradient_magnitude[row + 1, col + 1]\n",
    " \n",
    "            if gradient_magnitude[row, col] >= before_pixel and gradient_magnitude[row, col] >= after_pixel:\n",
    "                output[row, col] = gradient_magnitude[row, col]\n",
    " \n",
    "    if verbose:\n",
    "        plt.imshow(output, cmap='gray')\n",
    "        plt.title(\"Non Max Suppression\")\n",
    "        plt.show()\n",
    " \n",
    "    return output"
   ],
   "outputs": [],
   "metadata": {}
  },
  {
   "cell_type": "code",
   "execution_count": 14,
   "source": [
    "final_img = non_max_suppression(gradient_magnitude, gradient_direction, verbose=True)"
   ],
   "outputs": [
    {
     "output_type": "display_data",
     "data": {
      "image/png": "[encoded data removed]",
      "text/plain": [
       "<Figure size 432x288 with 1 Axes>"
      ]
     },
     "metadata": {
      "needs_background": "light"
     }
    }
   ],
   "metadata": {}
  }
 ],
 "metadata": {
  "kernelspec": {
   "display_name": "Python 3",
   "language": "python",
   "name": "python3"
  },
  "language_info": {
   "codemirror_mode": {
    "name": "ipython",
    "version": 3
   },
   "file_extension": ".py",
   "mimetype": "text/x-python",
   "name": "python",
   "nbconvert_exporter": "python",
   "pygments_lexer": "ipython3",
   "version": "3.8.8"
  }
 },
 "nbformat": 4,
 "nbformat_minor": 5
}